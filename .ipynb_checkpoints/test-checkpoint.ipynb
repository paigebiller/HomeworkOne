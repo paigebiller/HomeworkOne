{
 "cells": [
  {
   "cell_type": "code",
   "execution_count": 2,
   "metadata": {
    "collapsed": false
   },
   "outputs": [
    {
     "data": {
      "text/plain": [
       "4"
      ]
     },
     "execution_count": 2,
     "metadata": {},
     "output_type": "execute_result"
    }
   ],
   "source": [
    "2+2\n"
   ]
  },
  {
   "cell_type": "code",
   "execution_count": null,
   "metadata": {
    "collapsed": true
   },
   "outputs": [],
   "source": []
  },
  {
   "cell_type": "markdown",
   "metadata": {},
   "source": [
    "\n",
    "#My first programmmmmmmmmmmmmmom\n",
    "#sum to find how many above or below threshold\n",
    "#\\n without r'string' interprets \\n as newline even in quotation marks. for urls and paths want to use raw string or will try to interpret and mess up\n",
    "\n",
    "#frozen set to preserve duplicates\n",
    "\n",
    "#{name: x[0], height: x[1]}\n",
    "\n",
    "#list(zip(x,y)) gives tuple, then dict(zip(x,y)) turns the two lists into a dictionary\n",
    "\n",
    "#assert statements to ensure conditions are met but won't execute. pass to fill in code later bc whitespace driven."
   ]
  },
  {
   "cell_type": "code",
   "execution_count": null,
   "metadata": {
    "collapsed": true
   },
   "outputs": [],
   "source": []
  },
  {
   "cell_type": "code",
   "execution_count": 7,
   "metadata": {
    "collapsed": false
   },
   "outputs": [
    {
     "name": "stdout",
     "output_type": "stream",
     "text": [
      "1 2 3 4\n"
     ]
    }
   ],
   "source": [
    "#%reset\n",
    "def exercise():\n",
    "   # print(\"1 2 3 4\")\n",
    "    \n",
    "    for i in range(1,4):\n",
    "        print(str(i), end=' ') #override end from new line to space\n",
    "    print(i+1)\n",
    "exercise()"
   ]
  },
  {
   "cell_type": "code",
   "execution_count": 16,
   "metadata": {
    "collapsed": false
   },
   "outputs": [
    {
     "name": "stdout",
     "output_type": "stream",
     "text": [
      "Enter an ASCII code value:128\n",
      "Error\n"
     ]
    }
   ],
   "source": [
    "def exercise():\n",
    "    x = int(input(\"Enter an ASCII code value:\"))\n",
    "    if x>127: print(\"Error\") \n",
    "    else: print(chr(x))\n",
    "    \n",
    "exercise()"
   ]
  },
  {
   "cell_type": "code",
   "execution_count": 36,
   "metadata": {
    "collapsed": false
   },
   "outputs": [
    {
     "name": "stdout",
     "output_type": "stream",
     "text": [
      "Enter your age in years: 25\n",
      "7.921419518377693e-07 is your age in seconds\n"
     ]
    }
   ],
   "source": [
    "def exercise():\n",
    "    age=int(input(\"Enter your age in years: \"))\n",
    "    print(age/(3.156*10**7),\"is your age in seconds\")\n",
    "    \n",
    "exercise()"
   ]
  },
  {
   "cell_type": "code",
   "execution_count": 40,
   "metadata": {
    "collapsed": false
   },
   "outputs": [
    {
     "name": "stdout",
     "output_type": "stream",
     "text": [
      "Enter the amount of water in quarts: 2\n",
      "6.333333333333333e+25 is the amount of water in molecules\n"
     ]
    }
   ],
   "source": [
    "def exercise():\n",
    "    quarts = int(input(\"Enter the amount of water in quarts: \"))\n",
    "    grams=quarts*950\n",
    "    molecules=grams/(3e-23)\n",
    "    print(molecules,\"is the amount of water in molecules\")\n",
    "\n",
    "exercise()\n",
    "\n",
    "#constants  = variable name in all caps, not going to change"
   ]
  },
  {
   "cell_type": "code",
   "execution_count": 41,
   "metadata": {
    "collapsed": false
   },
   "outputs": [
    {
     "name": "stdout",
     "output_type": "stream",
     "text": [
      "Enter your height in inches: 56\n",
      "142.24 is your height in cm\n"
     ]
    }
   ],
   "source": [
    "def exercise():\n",
    "    heightinches = float(input(\"Enter your height in inches: \"))\n",
    "    heightcm = heightinches*2.54\n",
    "    print(heightcm, \"is your height in cm\")\n",
    "    \n",
    "exercise()"
   ]
  },
  {
   "cell_type": "code",
   "execution_count": 23,
   "metadata": {
    "collapsed": false
   },
   "outputs": [
    {
     "name": "stdout",
     "output_type": "stream",
     "text": [
      "Enter the volume in cups: 2\n",
      "2.0 cups 1.0 pints 16.0 ounces 32.0 tbsp 96.0 tsp\n"
     ]
    }
   ],
   "source": [
    "def exercise():\n",
    "    volincups = float(input(\"Enter the volume in cups: \"))\n",
    "    volinpint = volincups/2\n",
    "    volinoz = volincups*8\n",
    "    volintbsp = volinoz*2\n",
    "    volintsp = volintbsp*3\n",
    "    print(volincups, \"cups\", volinpint, \"pints\", volinoz, \"ounces\", volintbsp, \"tbsp\", volintsp, \"tsp\")\n",
    "\n",
    "exercise()\n",
    "\n",
    "#,sep='' if don't want spaces automatically inserted"
   ]
  },
  {
   "cell_type": "code",
   "execution_count": 20,
   "metadata": {
    "collapsed": false
   },
   "outputs": [
    {
     "name": "stdout",
     "output_type": "stream",
     "text": [
      "What is your first name?Paige\n",
      "What is your last name?Biller\n",
      "Biller , Paige\n"
     ]
    }
   ],
   "source": [
    "def exercise():\n",
    "    firstnm = str(input(\"What is your first name?\"))\n",
    "    lastnm = str(input(\"What is your last name?\"))\n",
    "    print(lastnm,\",\", firstnm)\n",
    "    \n",
    "exercise()"
   ]
  },
  {
   "cell_type": "code",
   "execution_count": null,
   "metadata": {
    "collapsed": false
   },
   "outputs": [
    {
     "name": "stdout",
     "output_type": "stream",
     "text": [
      "seconds?60\n",
      "0 1 0\n"
     ]
    }
   ],
   "source": [
    "x=int(input(\"seconds?\"))\n",
    "\n",
    "minutesperhour = 60\n",
    "secondsperminute = 60\n",
    "\n",
    "hours, seconds = divmod(x, (secondsperminute * minutesperhour))\n",
    "minutes, seconds = divmod(seconds, secondsperminute)\n",
    "\n",
    "print(hours, minutes, seconds)\n",
    "\n",
    "exercise()\n",
    "\n",
    "#gives quotient and remainder in the same step"
   ]
  },
  {
   "cell_type": "code",
   "execution_count": 10,
   "metadata": {
    "collapsed": false
   },
   "outputs": [
    {
     "name": "stdout",
     "output_type": "stream",
     "text": [
      "Name? p\n",
      "\"p\"\n"
     ]
    }
   ],
   "source": [
    "def exercise():\n",
    "    name = input('Name? ')\n",
    "   \n",
    "    ans1 = '\"{}\"' .format(name)\n",
    "    print (ans1)\n",
    "\n",
    "exercise()"
   ]
  },
  {
   "cell_type": "code",
   "execution_count": 11,
   "metadata": {
    "collapsed": false
   },
   "outputs": [
    {
     "name": "stdout",
     "output_type": "stream",
     "text": [
      "Number? 9\n",
      "9.0\n"
     ]
    }
   ],
   "source": [
    "def exercise():\n",
    "    x = float(input(\"Number? \"))\n",
    "    ans1 = '{}'.format(x)\n",
    "    \n",
    "    print(ans1)\n",
    "    \n",
    "exercise()"
   ]
  },
  {
   "cell_type": "code",
   "execution_count": 18,
   "metadata": {
    "collapsed": false
   },
   "outputs": [
    {
     "name": "stdout",
     "output_type": "stream",
     "text": [
      "Name? p\n",
      "Height in In4\n",
      "p you are 0.3333333333333333 feet tall\n",
      "p you are 0.3333333333333333 feet tall\n",
      "p, you are 0.33 feet tall\n",
      "p, you are 0.3333333333333333 feet tall\n"
     ]
    }
   ],
   "source": [
    "def exercise():\n",
    "    name = input(\"Name? \")\n",
    "    height = float(input(\"Height in In\"))\n",
    "    \n",
    "    height_in_feet = height / 12\n",
    "    \n",
    "    print(name + \" you are \" + str(height_in_feet) + \" feet tall\")\n",
    "    print(name, \" you are \", height_in_feet, \" feet tall\", sep='')\n",
    "    print(\"{}, you are {:.2f} feet tall\".format(name, height_in_feet))\n",
    "    fulltext = \"%s, you are %s feet tall\" % (name, height_in_feet)\n",
    "    print(fulltext)\n",
    "    \n",
    "exercise()\n",
    "\n",
    "# %s is python version of dot format"
   ]
  },
  {
   "cell_type": "code",
   "execution_count": 31,
   "metadata": {
    "collapsed": false
   },
   "outputs": [
    {
     "name": "stdout",
     "output_type": "stream",
     "text": [
      "What is your first name?p\n",
      "What is your last name?b\n",
      "p b\n",
      "1 1\n",
      "1 1\n"
     ]
    }
   ],
   "source": [
    "def exercise():\n",
    "    frstnm = str(input(\"What is your first name?\"))\n",
    "    lstnm = str(input(\"What is your last name?\"))\n",
    "    \n",
    "    f_length = len(frstnm)\n",
    "    l_length = len(lstnm)\n",
    "    \n",
    "    print(frstnm, lstnm)\n",
    "    print(\"{:>{x}}\".format(f_length, x=f_length), \"{:>{x}}\".format(l_length, x=l_length)) #right align\n",
    "    print(\"{:<{x}}\".format(f_length, x=f_length), \"{:<{x}}\".format(l_length, x=l_length)) #left align\n",
    "    \n",
    "exercise()"
   ]
  },
  {
   "cell_type": "code",
   "execution_count": 36,
   "metadata": {
    "collapsed": false
   },
   "outputs": [
    {
     "name": "stdout",
     "output_type": "stream",
     "text": [
      "First numbe: 4\n",
      "Second number: 5\n",
      "5 > 4\n"
     ]
    }
   ],
   "source": [
    "def exercise():\n",
    "    x = int(input(\"First numbe: \"))\n",
    "    y = int(input(\"Second number: \"))\n",
    "\n",
    "        \n",
    "    if x > y:\n",
    "        print(\"{} > {}\".format(x,y))\n",
    "    elif y > x:\n",
    "        print(\"{} > {}\".format(y,x))\n",
    "    else:\n",
    "        print(\"{} = {}\".format(x,y))\n",
    "\n",
    "exercise()\n",
    "\n",
    "#when evaluating lists > < , looking at number of elements\n",
    "#cleaner to return an answer rather than print in the middle of a function ( a side effect)"
   ]
  },
  {
   "cell_type": "code",
   "execution_count": 41,
   "metadata": {
    "collapsed": false
   },
   "outputs": [
    {
     "name": "stdout",
     "output_type": "stream",
     "text": [
      "z is smallest\n"
     ]
    },
    {
     "data": {
      "text/plain": [
       "('x', 'y', 'z', 'result', 'smallest')"
      ]
     },
     "execution_count": 41,
     "metadata": {},
     "output_type": "execute_result"
    }
   ],
   "source": [
    "def calculate_smallest(x, y, z):\n",
    "    result = ''\n",
    "    if(x < y) and (x < z):\n",
    "        smallest = 'x'\n",
    "    elif y < z:\n",
    "        smallest = 'y'\n",
    "    else:\n",
    "        smallest = 'z'\n",
    "    \n",
    "    return smallest\n",
    "\n",
    "def exercise(x,y,z):\n",
    "    answer = calculate_smallest(x,y,z)\n",
    "    print(\"{} is smallest\".format(answer))\n",
    "    \n",
    "exercise(1000,130,112)\n",
    "\n",
    "#don't have to call it result in either place, can call it whatever you want and doesn't have to be same in both\n",
    "\n",
    "calculate_smallest.__code__.co_varnames\n",
    "#gives you x y z and variable name smallest"
   ]
  },
  {
   "cell_type": "code",
   "execution_count": null,
   "metadata": {
    "collapsed": true
   },
   "outputs": [],
   "source": [
    "#else in while is more like then - comes after break"
   ]
  }
 ],
 "metadata": {
  "anaconda-cloud": {},
  "kernelspec": {
   "display_name": "Python [conda root]",
   "language": "python",
   "name": "conda-root-py"
  },
  "language_info": {
   "codemirror_mode": {
    "name": "ipython",
    "version": 3
   },
   "file_extension": ".py",
   "mimetype": "text/x-python",
   "name": "python",
   "nbconvert_exporter": "python",
   "pygments_lexer": "ipython3",
   "version": "3.5.2"
  }
 },
 "nbformat": 4,
 "nbformat_minor": 1
}
