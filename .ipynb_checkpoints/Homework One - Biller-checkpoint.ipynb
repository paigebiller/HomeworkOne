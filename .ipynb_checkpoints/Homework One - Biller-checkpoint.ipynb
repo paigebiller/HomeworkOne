{
 "cells": [
  {
   "cell_type": "code",
   "execution_count": 2,
   "metadata": {
    "collapsed": false
   },
   "outputs": [
    {
     "name": "stdout",
     "output_type": "stream",
     "text": [
      "What is your name? Paige\n",
      "Hello, Paige, nice to meet you!\n"
     ]
    }
   ],
   "source": [
    "#Problem 1: create a program that prompts for your name and prints a greeting using your name\n",
    "\n",
    "#This program prompts for a user input and encodes it as a string value, str()\n",
    "#Then it uses a print statement to concatenate custom text (a greeting with the name variable embedded) using .format\n",
    "\n",
    "def problem1():\n",
    "    myname = str(input(\"What is your name? \"))\n",
    "    fulltext = \"Hello, {name}, nice to meet you!\".format(name=myname)\n",
    "    print(fulltext)\n",
    "    \n",
    "problem1()"
   ]
  },
  {
   "cell_type": "code",
   "execution_count": 3,
   "metadata": {
    "collapsed": false
   },
   "outputs": [
    {
     "name": "stdout",
     "output_type": "stream",
     "text": [
      "Type a word or words as input: python\n",
      "python has 6 characters\n"
     ]
    }
   ],
   "source": [
    "#Problem 2: create a program that prompts for an input string and displays output that shows the \n",
    "# input string and the number of characters the string contains\n",
    "\n",
    "#This program prompts for a user input and encodes it as a string value, str()\n",
    "#Then is calculates the length of that string using the len function\n",
    "#Then it prints both the string and its length in one print output statement using .format\n",
    "\n",
    "def problem2():\n",
    "    originalstring=str(input(\"Type a word or words as input: \"))\n",
    "    \n",
    "    length_originalstring = len(originalstring)\n",
    "    \n",
    "    print(\"{string} has {length} characters\".format(string=originalstring,length=length_originalstring))\n",
    "    \n",
    "problem2()"
   ]
  },
  {
   "cell_type": "code",
   "execution_count": 7,
   "metadata": {
    "collapsed": false
   },
   "outputs": [
    {
     "name": "stdout",
     "output_type": "stream",
     "text": [
      "Enter a proper noun:Gretchen\n",
      "Enter an adjective:fetch\n",
      "Enter a verb:happen\n",
      "Enter an adverb:definitely\n",
      "Gretchen! Stop trying to make fetch happen. It's definitely not going to happen.\n"
     ]
    }
   ],
   "source": [
    "#Problem 3: create a simple mad-lib program that prompts for a noun, a verb, an adverb, and an adjective \n",
    "# and injects those into a story that you create\n",
    "\n",
    "#This program prompts for four user inputs and encodes them as strings\n",
    "#Using .format, a single output statement embeds these four variables into a short story\n",
    "\n",
    "def problem3():\n",
    "    nounstr=str(input(\"Enter a proper noun:\"))\n",
    "    adjstr=str(input(\"Enter an adjective:\"))\n",
    "    verbstr=str(input(\"Enter a verb:\"))\n",
    "    advbstr=str(input(\"Enter an adverb:\"))\n",
    "\n",
    "    \n",
    "    print(\"{n}! Stop trying to make {aj} {v}. It's {av} not going to {v}.\".format(n=nounstr,aj=adjstr,av=advbstr,v=verbstr))\n",
    "    \n",
    "problem3()"
   ]
  },
  {
   "cell_type": "code",
   "execution_count": 25,
   "metadata": {
    "collapsed": false
   },
   "outputs": [
    {
     "name": "stdout",
     "output_type": "stream",
     "text": [
      "Enter the first number:20\n",
      "Enter the second number:5\n",
      "20.0 + 5.0 = 25.0\n",
      "20.0 - 5.0 = 15.0\n",
      "20.0 * 5.0 = 100.0\n",
      "20.0 / 5.0 = 4.0\n",
      "\n"
     ]
    }
   ],
   "source": [
    "#Problem 4: write a program that prompts for two numbers \n",
    "#Print the sum, difference, product, and quotient of those numbers as shown in the example output\n",
    "\n",
    "#This program prompts for two string numerical inputs from a user\n",
    "#Then, it converts the strings to floats in order to do math operations\n",
    "#I calculated the sum, difference, product, and quotient separately to kepe the print statement clean\n",
    "#The sum, difference, product, and quotient are then printed using the new line capability\n",
    "\n",
    "def problem4():\n",
    "    stringone=str(input(\"Enter the first number: \"))\n",
    "    stringtwo=str(input(\"Enter the second number: \"))\n",
    "    \n",
    "    floatone=float(stringone)\n",
    "    floattwo=float(stringtwo)\n",
    "    \n",
    "    summation=floatone + floattwo #summation since sum is a python keyword\n",
    "    difference=floatone - floattwo\n",
    "    product=floatone * floattwo\n",
    "    quotient=floatone/floattwo\n",
    "    \n",
    "    print('{one} + {two} = {summ}\\n' \\\n",
    "          '{one} - {two} = {diff}\\n' \\\n",
    "          '{one} * {two} = {prod}\\n' \\\n",
    "          '{one} / {two} = {quot}\\n'.format(one=floatone,two=floattwo,summ=summation,prod=product,diff=difference,quot=quotient))\n",
    "\n",
    "problem4()"
   ]
  },
  {
   "cell_type": "code",
   "execution_count": 34,
   "metadata": {
    "collapsed": false
   },
   "outputs": [
    {
     "name": "stdout",
     "output_type": "stream",
     "text": [
      "What is your current age? 25\n",
      "At what age would you like to retire? 65\n",
      "You have 40 years left until you can retire.\n",
      "It's 2017, so you can retire in 2057.\n"
     ]
    }
   ],
   "source": [
    "#Problem 5: create a program that determines how many years you have left until retirement and the year you can retire \n",
    "#It should prompt for your current age and the age you want to retire and display the output as shown in the example that follows\n",
    "\n",
    "#This program prompts for two string numerical inputs from a user, age-based\n",
    "#Then, it converts the strings to integers to determine the years left until retirement, and retirement year\n",
    "#I imported the time module to dynamically input the current year\n",
    "#The print statement uses new lines to print the years left until retirement, current year, and calculated retirement year\n",
    "\n",
    "def problem5():\n",
    "    currentage=str(input(\"What is your current age? \"))\n",
    "    retireage=str(input(\"At what age would you like to retire? \"))\n",
    "    \n",
    "    intcurrentage=int(currentage)\n",
    "    intretireage=int(retireage)\n",
    "    \n",
    "    yearsleft = intretireage - intcurrentage\n",
    "    \n",
    "    import time\n",
    "    year, month, day, hour, minute = time.strftime(\"%Y,%m,%d,%H,%M\").split(',')\n",
    "    currentyear = int(year)\n",
    "    retireyear = currentyear + yearsleft\n",
    "    \n",
    "    print('You have {yrsleft} years left until you can retire.\\n' \\\n",
    "         'It\\'s {curryr}, so you can retire in {retireyr}.'.format(yrsleft=yearsleft,curryr=currentyear,retireyr=retireyear))\n",
    "problem5()"
   ]
  },
  {
   "cell_type": "code",
   "execution_count": 39,
   "metadata": {
    "collapsed": false
   },
   "outputs": [
    {
     "name": "stdout",
     "output_type": "stream",
     "text": [
      "What is the length of your room (in feet)? 15\n",
      "What is the width of your room (in feet)? 20\n",
      "You entered dimensions of 15 feet by 20 feet.\n",
      "The area is: \n",
      "300 square feet \n",
      "27.871 square meters\n"
     ]
    }
   ],
   "source": [
    "#Problem 6: create a program that calculates the area of a room. Prompt the user for the length and width of the room in feet. \n",
    "#Then display the area in both square feet and square meters.\n",
    "\n",
    "#This program prompts for two user inputs, length and width of a room in feet\n",
    "#A constant feettometer stores the conversion value (which does not change, and is not dependent on the user input)\n",
    "#I rounded areameter for nicer output in the print statement\n",
    "#The print statement uses new lines to print the length, width, and area calculations\n",
    "\n",
    "def problem6():\n",
    "    lengthofroom=str(input(\"What is the length of your room (in feet)? \")) \n",
    "    widthofroom=str(input(\"What is the width of your room (in feet)? \"))\n",
    "    \n",
    "    feettometer = .09290304 #can be coded as a constant, does not change\n",
    "    \n",
    "    areaft=int(lengthofroom)*int(widthofroom)\n",
    "    areameter=areaft * feettometer\n",
    "    areameterround=round(areameter,3)\n",
    "    \n",
    "    print('You entered dimensions of {length} feet by {width} feet.\\n' \\\n",
    "          'The area is: \\n' \\\n",
    "          '{sqft} square feet \\n' \\\n",
    "          '{sqmt} square meters'.format(length=lengthofroom,width=widthofroom,sqft=areaft,sqmt=areameterround))\n",
    "    \n",
    "    \n",
    "problem6()"
   ]
  },
  {
   "cell_type": "code",
   "execution_count": 1,
   "metadata": {
    "collapsed": false
   },
   "outputs": [
    {
     "name": "stdout",
     "output_type": "stream",
     "text": [
      "How many people? 2\n",
      "How many pizzas do you have? 3\n",
      "How many slices per pizza? 5\n",
      "2 people with 3 pizzas \n",
      "Each person gets 7 pieces of pizza. \n",
      "There are 1 leftover pieces.\n"
     ]
    }
   ],
   "source": [
    "#Problem 7: write a program to evenly divide pizzas. Prompt for the number of people, the number of pizzas, \n",
    "#and the number of slices per pizza. Ensure that the number of pieces comes out even. \n",
    "#Display the number of pieces of pizza each person should get. If there are leftovers, show the number of leftover pieces.\n",
    "\n",
    "#This program prompts for three user inputs: number of people, pizzas, and slices per pizza\n",
    "#I calculated the total number of slices and used the divmod function to get the whole quotient and the remainder\n",
    "#Then I extracted the whole and remaining slice counts from the tuple with the [] syntax to enter the values in the print statement\n",
    "\n",
    "def problem7():\n",
    "    numberofpeople=str(input('How many people? '))\n",
    "    numberofpizzas=str(input('How many pizzas do you have? '))\n",
    "    slicesperpizza=str(input('How many slices per pizza? '))\n",
    "    \n",
    "    totalslices=int(slicesperpizza) * int(numberofpizzas)\n",
    "    perperson=divmod(totalslices,int(numberofpeople))\n",
    "    wholeslices=perperson[0]\n",
    "    remainingslices=perperson[1]\n",
    "\n",
    "    print('{people} people with {pizzas} pizzas \\n' \\\n",
    "          'Each person gets {whole} pieces of pizza. \\n' \\\n",
    "          'There are {remaining} leftover pieces.'.format(people=numberofpeople,pizzas=numberofpizzas,whole=wholeslices,remaining=remainingslices))\n",
    "    \n",
    "problem7()"
   ]
  },
  {
   "cell_type": "code",
   "execution_count": 2,
   "metadata": {
    "collapsed": false
   },
   "outputs": [
    {
     "name": "stdout",
     "output_type": "stream",
     "text": [
      "What is the length of your room (in feet)? 25\n",
      "What is the width of your room (in feet)? 30\n",
      "You will need to purchse 3 gallons of \n",
      "paint to cover 750.0 square feet.\n"
     ]
    }
   ],
   "source": [
    "#Problem 8: calculate gallons of paint needed to paint the ceiling of a room. \n",
    "#Prompt for the length and width, and assume one gallon covers 350 square feet. \n",
    "#Display the number of gallons needed to paint the ceiling as a whole number.\n",
    "\n",
    "#This program prompts for two user inputs: length and width of a room\n",
    "#Converting these inputs from string to float lets me multiply them to get an area in square feet\n",
    "#The square feet to gallons of paint constant, 350, is stored as variable gallonstosqft\n",
    "#I imported math and used the function ceiling to round up the gallons to the nearest whole galllon, gallonsneeded\n",
    "\n",
    "def problem8():\n",
    "    lengthofroom=str(input(\"What is the length of your room (in feet)? \")) \n",
    "    widthofroom=str(input(\"What is the width of your room (in feet)? \"))\n",
    "    \n",
    "    area = float(lengthofroom)*float(widthofroom)\n",
    "    \n",
    "    gallonstosqft = 350 #can be coded as a constant, does not change\n",
    "    \n",
    "    gallons = area / 350\n",
    "    \n",
    "    import math\n",
    "    gallonsneeded = math.ceil(gallons)\n",
    "    \n",
    "    print('You will need to purchse {gallons} gallons of \\n' \\\n",
    "         'paint to cover {area} square feet.'.format(gallons=gallonsneeded,area=area))\n",
    "\n",
    "problem8()"
   ]
  },
  {
   "cell_type": "code",
   "execution_count": 9,
   "metadata": {
    "collapsed": false
   },
   "outputs": [
    {
     "name": "stdout",
     "output_type": "stream",
     "text": [
      "Enter the price of item 1: $2.22\n",
      "Enter the quantity of item 1: 1\n",
      "Enter the price of item 2: $4.10\n",
      "Enter the quantity of item 2: 1\n",
      "Enter the price of item 3: $ 10.63\n",
      "Enter the quantity of item 3: 2\n",
      "Subtotal: 27.58 \n",
      "Tax: 15.17 \n",
      "Total: 42.75\n"
     ]
    }
   ],
   "source": [
    "#Problem 9: create a simple self-checkout system. Prompt for the prices and quantities of three items. \n",
    "#Calculate the subtotal of the items. Then calculate the tax using a tax rate of 5.5%. \n",
    "#Print out the line items with the quantity and total, and then print out the subtotal, tax amount, and total.\n",
    "\n",
    "#This program prompts for 6 user inputs: three prices and corresponding three quantities\n",
    "#The three price variables are converted to floats, and the three quantities are converted to integers (can't buy half of one)\n",
    "#I calculated subtotals for each item, and then summed them to get the full subtotal\n",
    "#The tax and subtotal calculations round to two decimals to get to the nearest penny. \n",
    "#Tax is then added to subtotal to get Total.\n",
    "\n",
    "def problem9():\n",
    "    item1price=str(input(\"Enter the price of item 1: $\"))\n",
    "    item1quant=str(input(\"Enter the quantity of item 1: \"))\n",
    "    item2price=str(input(\"Enter the price of item 2: $\"))\n",
    "    item2quant=str(input(\"Enter the quantity of item 2: \"))\n",
    "    item3price=str(input(\"Enter the price of item 3: $ \"))\n",
    "    item3quant=str(input(\"Enter the quantity of item 3: \"))\n",
    "    \n",
    "    flitem1price=float(item1price)\n",
    "    intitem1quant=float(item1quant)\n",
    "    flitem2price=float(item2price)\n",
    "    intitem2quant=float(item2quant)\n",
    "    flitem3price=float(item3price)\n",
    "    intitem3quant=float(item3quant)\n",
    "    \n",
    "    item1subtotal = flitem1price * intitem1quant\n",
    "    item2subtotal = flitem2price * intitem2quant\n",
    "    item3subtotal = flitem3price * intitem3quant\n",
    "    \n",
    "    Subtotal = round(item1subtotal + item2subtotal + item3subtotal,2)\n",
    "    Tax = round((Subtotal * 0.55),2)\n",
    "    Total = Subtotal + Tax\n",
    "    \n",
    "    print('Subtotal: {Subtotal} \\n' \\\n",
    "         'Tax: {Tax} \\n' \\\n",
    "         'Total: {Total}'.format(Subtotal=Subtotal,Tax=Tax,Total=Total))\n",
    "problem9()"
   ]
  },
  {
   "cell_type": "code",
   "execution_count": 1,
   "metadata": {
    "collapsed": false
   },
   "outputs": [
    {
     "name": "stdout",
     "output_type": "stream",
     "text": [
      "Enter the principal amount: $10\n",
      "Enter the interest rate (not as a decimal): 5.232\n",
      "Enter the length in years of the investment: 1\n",
      "After 1 years at 5.232%, the investment will \n",
      " be worth $10.53.\n"
     ]
    }
   ],
   "source": [
    "#Problem10: Create a program that computes simple interest. \n",
    "#Prompt for the principal amount, the rate as a percentage, and the time, and display the amount accrued (principal + interest).\n",
    "#The formula for simple interest is A = P(1 + rt), where P is the principal amount, r is the annual rate of interest, \n",
    "#t is the number of years the amount is invested, and A is the amount at the end of the investment.\n",
    "\n",
    "#This program prompts for three strings: principal, interest, and years of investment\n",
    "#Dividing interest by 100 gives us a decimal to use in the simple interest formula\n",
    "#We can separate the integer (dollar) amount of the simple interest result from the decimal (pennies) using the modulo operator\n",
    "#to give the raw pennies, which we can then multiply by 100 to get an integer and then round up using ceiling so that fractional\n",
    "#pennies round up to the nearest penny, then added to the raw dollar integer to get an adjusted value for simple interest\n",
    "\n",
    "\n",
    "def problem10():\n",
    "    principal=str(input(\"Enter the principal amount: $\" ))\n",
    "    interest=str(input(\"Enter the interest rate (not as a decimal): \"))\n",
    "    yearsofinvestment=str(input(\"Enter the length in years of the investment: \"))  \n",
    "    \n",
    "    decinterest = float(interest)/100\n",
    "    \n",
    "    rawworth = float(principal) * (1+(decinterest*float(yearsofinvestment)))\n",
    "    \n",
    "    rawdollar=int(rawworth)\n",
    "    rawworthdec = rawworth % 1\n",
    "    rawworthint = rawworthdec * 100\n",
    "    import math\n",
    "    roundedpennies = math.ceil(rawworthint)\n",
    "    \n",
    "    adjworth = rawdollar + (roundedpennies/100)\n",
    "\n",
    "    \n",
    "    print('After {years} years at {interest}%, the investment will \\n ' \\\n",
    "          'be worth ${worth:5,.2f}.'.format(years=yearsofinvestment,interest=interest,worth=adjworth))\n",
    "    \n",
    "problem10()  \n",
    "        "
   ]
  },
  {
   "cell_type": "code",
   "execution_count": null,
   "metadata": {
    "collapsed": true
   },
   "outputs": [],
   "source": []
  }
 ],
 "metadata": {
  "anaconda-cloud": {},
  "kernelspec": {
   "display_name": "Python [conda root]",
   "language": "python",
   "name": "conda-root-py"
  },
  "language_info": {
   "codemirror_mode": {
    "name": "ipython",
    "version": 3
   },
   "file_extension": ".py",
   "mimetype": "text/x-python",
   "name": "python",
   "nbconvert_exporter": "python",
   "pygments_lexer": "ipython3",
   "version": "3.5.2"
  }
 },
 "nbformat": 4,
 "nbformat_minor": 1
}
