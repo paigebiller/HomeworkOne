{
 "cells": [
  {
   "cell_type": "code",
   "execution_count": 1,
   "metadata": {
    "collapsed": false
   },
   "outputs": [
    {
     "name": "stdout",
     "output_type": "stream",
     "text": [
      "What is your name? Paige\n",
      "Hello, Paige, nice to meet you!\n"
     ]
    }
   ],
   "source": [
    "#Problem 1: create a program that prompts for your name and prints a greeting using your name\n",
    "\n",
    "#This program prompts for a user input and encodes it as a string value, str()\n",
    "#Then it uses a print statement to concatenate custom text (a greeting) and the name variable\n",
    "\n",
    "def problem1():\n",
    "    myname = str(input(\"What is your name? \")) #input\n",
    "    fulltext = \"Hello, %s, nice to meet you!\" % (myname) #string concatenation\n",
    "    print(fulltext) #output\n",
    "    \n",
    "problem1()"
   ]
  },
  {
   "cell_type": "code",
   "execution_count": 2,
   "metadata": {
    "collapsed": false
   },
   "outputs": [
    {
     "name": "stdout",
     "output_type": "stream",
     "text": [
      "Type a word or words as input: python\n",
      "python has 6 characters\n"
     ]
    }
   ],
   "source": [
    "#Problem 2: create a program that prompts for an input string and displays output that shows the \n",
    "# input string and the number of characters the string contains\n",
    "\n",
    "#This program prompts for a user input and encodes it as a string value, str()\n",
    "#Then is calculates the length of that string using the len function\n",
    "#Then it prints both the string and its length in one print output statement using dot format\n",
    "\n",
    "def problem2():\n",
    "    originalstring=str(input(\"Type a word or words as input: \")) #user input string prompt\n",
    "    \n",
    "    length_originalstring = len(originalstring) #calculate length of original string\n",
    "    \n",
    "    print(\"{} has {} characters\".format(originalstring,length_originalstring)) #print statement with original string and length\n",
    "    \n",
    "problem2()"
   ]
  },
  {
   "cell_type": "code",
   "execution_count": null,
   "metadata": {
    "collapsed": true
   },
   "outputs": [],
   "source": [
    "#Problem 3"
   ]
  }
 ],
 "metadata": {
  "anaconda-cloud": {},
  "kernelspec": {
   "display_name": "Python [conda root]",
   "language": "python",
   "name": "conda-root-py"
  },
  "language_info": {
   "codemirror_mode": {
    "name": "ipython",
    "version": 3
   },
   "file_extension": ".py",
   "mimetype": "text/x-python",
   "name": "python",
   "nbconvert_exporter": "python",
   "pygments_lexer": "ipython3",
   "version": "3.5.2"
  }
 },
 "nbformat": 4,
 "nbformat_minor": 1
}
